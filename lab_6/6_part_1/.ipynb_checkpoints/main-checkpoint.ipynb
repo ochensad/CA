{
 "cells": [
  {
   "cell_type": "code",
   "execution_count": 1,
   "metadata": {},
   "outputs": [],
   "source": [
    "from typing import List\n",
    "from numpy import linspace, array\n",
    "from numpy.linalg import solve\n",
    "from math import cos, pi, sqrt\n",
    "from matplotlib import pyplot as plt\n",
    "%matplotlib inline"
   ]
  },
  {
   "cell_type": "markdown",
   "metadata": {},
   "source": [
    "## Полином Лежандра"
   ]
  },
  {
   "cell_type": "code",
   "execution_count": 2,
   "metadata": {
    "pycharm": {
     "name": "#%%\n"
    }
   },
   "outputs": [],
   "source": [
    "def leg_polym(n, x):\n",
    "    if n < 2:\n",
    "        return [1, x][n]\n",
    "\n",
    "    P1 = leg_polym(n - 1, x)\n",
    "    P2 = leg_polym(n - 2, x)\n",
    "\n",
    "    return ((2 * n - 1) * x * P1 - (n - 1) * P2) / n"
   ]
  },
  {
   "cell_type": "markdown",
   "metadata": {},
   "source": [
    "## Производная"
   ]
  },
  {
   "cell_type": "code",
   "execution_count": 3,
   "metadata": {
    "pycharm": {
     "name": "#%%\n"
    }
   },
   "outputs": [],
   "source": [
    "def leg_polym_deriv(n, x):\n",
    "    P1 = leg_polym(n - 1, x)\n",
    "    P2 = leg_polym(n, x)\n",
    "\n",
    "    return n / (1 - x * x) * (P1 - x * P2)"
   ]
  },
  {
   "cell_type": "markdown",
   "metadata": {},
   "source": [
    "## Поиск корней Ньютоном"
   ]
  },
  {
   "cell_type": "code",
   "execution_count": 4,
   "metadata": {
    "pycharm": {
     "name": "#%%\n"
    }
   },
   "outputs": [],
   "source": [
    "def leg_roots(n: int, eps: float = 1e-12) -> List[float]:\n",
    "    roots = [cos(pi * (4 * i + 3) / (4 * n + 2)) for i in range(n)]  # нач. приближение\n",
    "\n",
    "    for i, root in enumerate(roots):\n",
    "        root_val = leg_polym(n, root)\n",
    "\n",
    "        while abs(root_val) > eps:\n",
    "            root -= root_val / leg_polym_deriv(n, root)\n",
    "            root_val = leg_polym(n, root)\n",
    "\n",
    "        roots[i] = root\n",
    "\n",
    "    return roots"
   ]
  },
  {
   "cell_type": "markdown",
   "metadata": {},
   "source": [
    "## Интегрироавние в [1, 1]"
   ]
  },
  {
   "cell_type": "code",
   "execution_count": 5,
   "metadata": {
    "pycharm": {
     "name": "#%%\n"
    }
   },
   "outputs": [],
   "source": [
    "def norm_gauss_integ(f, n):\n",
    "    t = leg_roots(n)  # корни полинома Лежандра n-ой степени\n",
    "    T = array([[t_i**k for t_i in t] for k in range(n)])\n",
    "\n",
    "    int_tk = lambda k: 2 / (k + 1) if k % 2 == 0 else 0\n",
    "    b = array([int_tk(k) for k in range(n)])  # правая часть\n",
    "\n",
    "    A = solve(T, b)  # находим коэффициенты А\n",
    "\n",
    "    return sum(A_i * f(t_i) for A_i, t_i in zip(A, t))"
   ]
  },
  {
   "cell_type": "markdown",
   "metadata": {},
   "source": [
    "## [-1, 1] -> [a, b]"
   ]
  },
  {
   "cell_type": "code",
   "execution_count": 6,
   "metadata": {
    "pycharm": {
     "name": "#%%\n"
    }
   },
   "outputs": [],
   "source": [
    "def gauss_integ(f, a, b, n):\n",
    "    mean, diff = (a + b) / 2, (b - a) / 2\n",
    "    g = lambda t: f(mean + diff * t)\n",
    "    return diff * norm_gauss_integ(g, n)"
   ]
  },
  {
   "cell_type": "markdown",
   "metadata": {},
   "source": [
    "## Формула симпсона"
   ]
  },
  {
   "cell_type": "code",
   "execution_count": 7,
   "metadata": {
    "pycharm": {
     "name": "#%%\n"
    }
   },
   "outputs": [],
   "source": [
    "def simp_integ(f, a, b, n):\n",
    "    h = (b - a) / (n - 1)\n",
    "    x = a\n",
    "    res = 0\n",
    "\n",
    "    for i in range((n - 1) // 2):\n",
    "        res += f(x) + 4 * f(x + h) + f(x + 2 * h)\n",
    "        x += 2 * h\n",
    "\n",
    "    return res * (h / 3)"
   ]
  },
  {
   "cell_type": "markdown",
   "metadata": {},
   "source": [
    "## Композиция методов интегрирования"
   ]
  },
  {
   "cell_type": "code",
   "execution_count": 8,
   "metadata": {
    "pycharm": {
     "name": "#%%\n"
    }
   },
   "outputs": [],
   "source": [
    "# композиция методов интегрирования\n",
    "def compose_integ(f, a1, b1, a2, b2, method_1, method_2, n1, n2):\n",
    "    F = lambda x: method_1(lambda y: f(x, y), a2, b2, n1)\n",
    "    return method_2(F, a1, b1, n2)"
   ]
  },
  {
   "cell_type": "markdown",
   "metadata": {},
   "source": [
    "## Misc"
   ]
  },
  {
   "cell_type": "code",
   "execution_count": 9,
   "metadata": {
    "pycharm": {
     "name": "#%%\n"
    }
   },
   "outputs": [],
   "source": [
    "def function_integ(f, a, b, c, d, n, m):\n",
    "    return compose_integ(f, a, b, c, d, gauss_integ, simp_integ, n, m)"
   ]
  },
  {
   "cell_type": "code",
   "execution_count": 10,
   "metadata": {
    "pycharm": {
     "name": "#%%\n"
    }
   },
   "outputs": [],
   "source": [
    "def in_circle(x, y):\n",
    "    return (x**2 + y**2) - 2 * x <= 0"
   ]
  },
  {
   "cell_type": "code",
   "execution_count": 11,
   "metadata": {
    "pycharm": {
     "name": "#%%\n"
    }
   },
   "outputs": [],
   "source": [
    "def function(n, m):\n",
    "    f = lambda x, y: sqrt(x**2 + y**2) if in_circle(x, y) else 0  # основная функция\n",
    "    return function_integ(f, 0, 2, -1, 1, n, m)"
   ]
  },
  {
   "cell_type": "code",
   "execution_count": null,
   "metadata": {
    "pycharm": {
     "name": "#%%\n"
    }
   },
   "outputs": [],
   "source": []
  },
  {
   "cell_type": "code",
   "execution_count": 12,
   "metadata": {
    "pycharm": {
     "name": "#%%\n"
    }
   },
   "outputs": [
    {
     "name": "stdout",
     "output_type": "stream",
     "text": [
      "3.5573013523238894\n",
      "276.75\n",
      "276.37473733492664\n"
     ]
    }
   ],
   "source": [
    "print(function(7, 1000))\n",
    "\n",
    "\n",
    "def f1(x):\n",
    "    return 3 * x**3\n",
    "\n",
    "\n",
    "print(gauss_integ(f1, 4, 5, 7))\n",
    "print(simp_integ(f1, 4, 5, 1000))"
   ]
  },
  {
   "cell_type": "code",
   "execution_count": 18,
   "metadata": {
    "pycharm": {
     "name": "#%%\n"
    }
   },
   "outputs": [],
   "source": [
    "res = []\n",
    "for i in range(3, 10):\n",
    "    res.append([])\n",
    "    for j in range(3, 10):\n",
    "        res[-1].append(function(i, 17))"
   ]
  },
  {
   "cell_type": "code",
   "execution_count": 19,
   "metadata": {
    "pycharm": {
     "name": "#%%\n"
    }
   },
   "outputs": [
    {
     "data": {
      "image/png": "[encoded data removed]",
      "text/plain": [
       "<Figure size 432x288 with 1 Axes>"
      ]
     },
     "metadata": {
      "needs_background": "light"
     },
     "output_type": "display_data"
    }
   ],
   "source": [
    "plt.imshow(res, interpolation='nearest')\n",
    "plt.show()"
   ]
  },
  {
   "cell_type": "code",
   "execution_count": 22,
   "metadata": {
    "pycharm": {
     "name": "#%%\n"
    }
   },
   "outputs": [
    {
     "data": {
      "text/plain": [
       "array([[3.81122575, 3.81122575, 3.81122575, 3.81122575, 3.81122575,\n",
       "        3.81122575, 3.81122575],\n",
       "       [3.71048346, 3.71048346, 3.71048346, 3.71048346, 3.71048346,\n",
       "        3.71048346, 3.71048346],\n",
       "       [3.48895794, 3.48895794, 3.48895794, 3.48895794, 3.48895794,\n",
       "        3.48895794, 3.48895794],\n",
       "       [3.55120736, 3.55120736, 3.55120736, 3.55120736, 3.55120736,\n",
       "        3.55120736, 3.55120736],\n",
       "       [3.67732936, 3.67732936, 3.67732936, 3.67732936, 3.67732936,\n",
       "        3.67732936, 3.67732936],\n",
       "       [3.36280198, 3.36280198, 3.36280198, 3.36280198, 3.36280198,\n",
       "        3.36280198, 3.36280198],\n",
       "       [3.58848591, 3.58848591, 3.58848591, 3.58848591, 3.58848591,\n",
       "        3.58848591, 3.58848591]])"
      ]
     },
     "execution_count": 22,
     "metadata": {},
     "output_type": "execute_result"
    }
   ],
   "source": [
    "import numpy as np\n",
    "np.array(res)"
   ]
  },
  {
   "cell_type": "code",
   "execution_count": null,
   "metadata": {},
   "outputs": [],
   "source": []
  }
 ],
 "metadata": {
  "kernelspec": {
   "display_name": "Python 3",
   "language": "python",
   "name": "python3"
  },
  "language_info": {
   "codemirror_mode": {
    "name": "ipython",
    "version": 3
   },
   "file_extension": ".py",
   "mimetype": "text/x-python",
   "name": "python",
   "nbconvert_exporter": "python",
   "pygments_lexer": "ipython3",
   "version": "3.10.0"
  }
 },
 "nbformat": 4,
 "nbformat_minor": 1
}
